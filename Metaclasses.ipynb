{
 "cells": [
  {
   "cell_type": "code",
   "execution_count": 23,
   "metadata": {},
   "outputs": [],
   "source": [
    "class Person:\n",
    "    def __init__(self, name):\n",
    "        self.name = name\n",
    "        \n",
    "    def hello(self):\n",
    "        return f\"Hello, I'm {self.name}\"\n",
    "\n",
    "chris = Person('Chris')  # \"chris\" is an instance of Person"
   ]
  },
  {
   "cell_type": "code",
   "execution_count": 24,
   "metadata": {},
   "outputs": [
    {
     "data": {
      "text/plain": [
       "<__main__.Person at 0x111658ba8>"
      ]
     },
     "execution_count": 24,
     "metadata": {},
     "output_type": "execute_result"
    }
   ],
   "source": [
    "chris"
   ]
  },
  {
   "cell_type": "code",
   "execution_count": 25,
   "metadata": {},
   "outputs": [
    {
     "data": {
      "text/plain": [
       "\"Hello, I'm Chris\""
      ]
     },
     "execution_count": 25,
     "metadata": {},
     "output_type": "execute_result"
    }
   ],
   "source": [
    "chris.hello()"
   ]
  },
  {
   "cell_type": "code",
   "execution_count": 3,
   "metadata": {},
   "outputs": [
    {
     "data": {
      "text/plain": [
       "__main__.Person"
      ]
     },
     "execution_count": 3,
     "metadata": {},
     "output_type": "execute_result"
    }
   ],
   "source": [
    "type(chris)  # The type of chris is Person"
   ]
  },
  {
   "cell_type": "code",
   "execution_count": 7,
   "metadata": {},
   "outputs": [
    {
     "data": {
      "text/plain": [
       "type"
      ]
     },
     "execution_count": 7,
     "metadata": {},
     "output_type": "execute_result"
    }
   ],
   "source": [
    "# Well, what's the type of Person?\n",
    "type(Person)"
   ]
  },
  {
   "cell_type": "markdown",
   "metadata": {},
   "source": [
    "##### ?!?!?\n",
    "\n",
    "`type` is a class and a built in!\n",
    "\n",
    "- A class is a blueprint for an instance of the class.\n",
    "- A metaclass is a blueprint for an instance of \"type\", ie. a class. A metaclass is a class-factory."
   ]
  },
  {
   "cell_type": "code",
   "execution_count": 11,
   "metadata": {},
   "outputs": [
    {
     "data": {
      "text/plain": [
       "type"
      ]
     },
     "execution_count": 11,
     "metadata": {},
     "output_type": "execute_result"
    }
   ],
   "source": [
    "# Is there a blueprint for an instance of metaclasses? Yes. It's a metaclass :)\n",
    "type(type)"
   ]
  },
  {
   "cell_type": "code",
   "execution_count": null,
   "metadata": {},
   "outputs": [],
   "source": [
    "# When is a metaclass used?\n",
    "class Person:  \n",
    "    def __init__(self, name):\n",
    "        self.name = name\n",
    "# <<< Right here. Right after all of the class has been read in."
   ]
  },
  {
   "cell_type": "markdown",
   "metadata": {},
   "source": [
    "The metaclass for a class is invoked when a class definition is read in by Python. Python creates a new class as soon as it sees this new class definition. To do so, Python calls the metaclass.\n",
    "\n",
    "Python searches through parents classes to see what metaclass to use. Metaclasses are passed down via inheritance. Often, this metaclass ends up being `type`. So how is `type` called?"
   ]
  },
  {
   "cell_type": "code",
   "execution_count": 32,
   "metadata": {},
   "outputs": [
    {
     "data": {
      "text/plain": [
       "__main__.Person"
      ]
     },
     "execution_count": 32,
     "metadata": {},
     "output_type": "execute_result"
    }
   ],
   "source": [
    "def __init__(self, name):\n",
    "    self.name = name\n",
    "\n",
    "def hello(self):\n",
    "    return f\"Hello, I'm {self.name}\"\n",
    "\n",
    "classname = 'Person'\n",
    "bases = ()\n",
    "methods = {\n",
    "    '__init__': __init__,\n",
    "    'hello': hello,\n",
    "}\n",
    "\n",
    "# We programmatically create the class\n",
    "type(classname, bases, methods)"
   ]
  },
  {
   "cell_type": "code",
   "execution_count": 34,
   "metadata": {},
   "outputs": [
    {
     "data": {
      "text/plain": [
       "<__main__.Person at 0x1116ef7b8>"
      ]
     },
     "execution_count": 34,
     "metadata": {},
     "output_type": "execute_result"
    }
   ],
   "source": [
    "janet = type(classname, bases, methods)('Janet')\n",
    "janet"
   ]
  },
  {
   "cell_type": "code",
   "execution_count": 35,
   "metadata": {},
   "outputs": [
    {
     "data": {
      "text/plain": [
       "\"Hello, I'm Janet\""
      ]
     },
     "execution_count": 35,
     "metadata": {},
     "output_type": "execute_result"
    }
   ],
   "source": [
    "janet.hello()"
   ]
  },
  {
   "cell_type": "markdown",
   "metadata": {},
   "source": [
    "*What do I do with this?*\n",
    "\n",
    "- Build custom classes on the fly\n",
    "- Create a class with a different metaclass"
   ]
  },
  {
   "cell_type": "code",
   "execution_count": 43,
   "metadata": {},
   "outputs": [
    {
     "name": "stdout",
     "output_type": "stream",
     "text": [
      "Just started creating new class \"Person\"!\n",
      "All done creating new class <class '__main__.Person'>\n"
     ]
    }
   ],
   "source": [
    "class CustomType(type):\n",
    "    def __new__(cls, name, bases, dict_):\n",
    "        print(f'Just started creating new class \"{name}\"!')\n",
    "        new_cls = super().__new__(cls, name, bases, dict_)\n",
    "        print(f'All done creating new class {new_cls}')\n",
    "        return new_cls\n",
    "\n",
    "class Person(metaclass=CustomType):  # Override 'type' as metaclass\n",
    "    pass"
   ]
  },
  {
   "cell_type": "code",
   "execution_count": 44,
   "metadata": {},
   "outputs": [
    {
     "name": "stdout",
     "output_type": "stream",
     "text": [
      "Just started creating new class \"Parent\"!\n",
      "All done creating new class <class '__main__.Parent'>\n"
     ]
    }
   ],
   "source": [
    "class Parent(Person):\n",
    "    pass"
   ]
  },
  {
   "cell_type": "code",
   "execution_count": 45,
   "metadata": {},
   "outputs": [
    {
     "name": "stdout",
     "output_type": "stream",
     "text": [
      "Just started creating new class \"Child\"!\n",
      "All done creating new class <class '__main__.Child'>\n"
     ]
    }
   ],
   "source": [
    "class Child(Person):\n",
    "    pass"
   ]
  },
  {
   "cell_type": "code",
   "execution_count": 47,
   "metadata": {},
   "outputs": [
    {
     "data": {
      "text/plain": [
       "{__main__.A, __main__.B, __main__.Panda}"
      ]
     },
     "execution_count": 47,
     "metadata": {},
     "output_type": "execute_result"
    }
   ],
   "source": [
    "registry = set()\n",
    "\n",
    "class RegisteredClassType(type):\n",
    "    def __new__(cls, name, bases, dict_):\n",
    "        new_cls = super().__new__(cls, name, bases, dict_)\n",
    "        # We don't want to register the parent class that all other\n",
    "        # registered classes will inherit from.\n",
    "        if name != 'RegisteredClass':\n",
    "            registry.add(new_cls)\n",
    "        return new_cls\n",
    "\n",
    "class RegisteredClass(metaclass=RegisteredClassType):\n",
    "    pass\n",
    "\n",
    "class A(RegisteredClass):\n",
    "    pass\n",
    "\n",
    "class B(RegisteredClass):\n",
    "    pass\n",
    "\n",
    "class Panda(RegisteredClass):\n",
    "    pass\n",
    "\n",
    "registry"
   ]
  },
  {
   "cell_type": "code",
   "execution_count": 79,
   "metadata": {},
   "outputs": [
    {
     "name": "stdout",
     "output_type": "stream",
     "text": [
      "Calling method!\n",
      "Yeah!\n"
     ]
    }
   ],
   "source": [
    "class PreparedType(type):\n",
    "    def __prepare__(name, bases, **kwargs) -> dict:\n",
    "        \"\"\"\n",
    "        Return a dict that will hold all the attributes of \n",
    "        the class keyed by the name of the attribute. The\n",
    "        dict can be empty. It's just a starting point that\n",
    "        will hold all attributes to come.\n",
    "        \n",
    "        This method is called before __new__ and its result\n",
    "        is passed to __new__ as the third argument \"dict_\".\n",
    "        \"\"\"\n",
    "        def my_property(func):\n",
    "            def decorated(*a, **kw):\n",
    "                print('Calling method!')\n",
    "                return func(*a, **kw)\n",
    "            return decorated\n",
    "        \n",
    "        def not_available(func):\n",
    "            pass\n",
    "        \n",
    "        return {\n",
    "            'my_property': my_property,\n",
    "        }\n",
    "\n",
    "\n",
    "class PreparedClass(metaclass=PreparedType):\n",
    "    pass\n",
    "\n",
    "\n",
    "class MyClass(PreparedClass):\n",
    "    \n",
    "    @my_property\n",
    "    def run(self):\n",
    "        print('Yeah!')\n",
    "      \n",
    "    # The following lines will raise a NameError when uncommented.\n",
    "    # @not_available\n",
    "    # def not_going_to_work(self):\n",
    "    #     print('Nope')\n",
    "\n",
    "MyClass().run()"
   ]
  },
  {
   "cell_type": "markdown",
   "metadata": {},
   "source": [
    "> Metaclasses are deeper magic that 99% of users should never worry about. If you wonder whether you need them, you don’t (the people who actually need them know with certainty that they need them, and don’t need an explanation about why).\n",
    "-- Tim Peters\n",
    "\n"
   ]
  }
 ],
 "metadata": {
  "kernelspec": {
   "display_name": "Python 3",
   "language": "python",
   "name": "python3"
  },
  "language_info": {
   "codemirror_mode": {
    "name": "ipython",
    "version": 3
   },
   "file_extension": ".py",
   "mimetype": "text/x-python",
   "name": "python",
   "nbconvert_exporter": "python",
   "pygments_lexer": "ipython3",
   "version": "3.7.1"
  }
 },
 "nbformat": 4,
 "nbformat_minor": 2
}
