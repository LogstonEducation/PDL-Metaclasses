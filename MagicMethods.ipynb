{
 "cells": [
  {
   "cell_type": "code",
   "execution_count": 15,
   "metadata": {},
   "outputs": [],
   "source": [
    "class Person:\n",
    "    def __init__(self, name):\n",
    "        self.name = name\n",
    "\n",
    "    def __str__(self):\n",
    "        return f'I am {self.name}!'"
   ]
  },
  {
   "cell_type": "code",
   "execution_count": 16,
   "metadata": {},
   "outputs": [
    {
     "data": {
      "text/plain": [
       "<__main__.Person at 0x10e2eaef0>"
      ]
     },
     "execution_count": 16,
     "metadata": {},
     "output_type": "execute_result"
    }
   ],
   "source": [
    "p = Person('Patricia')\n",
    "p  # __str__ seems to have no effect"
   ]
  },
  {
   "cell_type": "code",
   "execution_count": 17,
   "metadata": {},
   "outputs": [
    {
     "name": "stdout",
     "output_type": "stream",
     "text": [
      "I am Patricia!\n"
     ]
    }
   ],
   "source": [
    "print(p)"
   ]
  },
  {
   "cell_type": "code",
   "execution_count": 18,
   "metadata": {},
   "outputs": [
    {
     "data": {
      "text/plain": [
       "'I am Patricia!'"
      ]
     },
     "execution_count": 18,
     "metadata": {},
     "output_type": "execute_result"
    }
   ],
   "source": [
    "str(p)  # print calls str under the hood"
   ]
  },
  {
   "cell_type": "markdown",
   "metadata": {},
   "source": [
    "What other magic methods are there?"
   ]
  },
  {
   "cell_type": "markdown",
   "metadata": {},
   "source": [
    "### lt, ie. \"less than\""
   ]
  },
  {
   "cell_type": "code",
   "execution_count": 21,
   "metadata": {},
   "outputs": [
    {
     "data": {
      "text/plain": [
       "True"
      ]
     },
     "execution_count": 21,
     "metadata": {},
     "output_type": "execute_result"
    }
   ],
   "source": [
    "class Trump(Person):\n",
    "    def __lt__(self, other):\n",
    "        return True\n",
    "\n",
    "class Obama(Person):\n",
    "    pass\n",
    "\n",
    "# My politcal beliefs do not reflect those of my employers\n",
    "Trump('Don') < Obama('Barak')"
   ]
  },
  {
   "cell_type": "code",
   "execution_count": 22,
   "metadata": {},
   "outputs": [
    {
     "ename": "TypeError",
     "evalue": "'>' not supported between instances of 'Trump' and 'Obama'",
     "output_type": "error",
     "traceback": [
      "\u001b[0;31m---------------------------------------------------------------------------\u001b[0m",
      "\u001b[0;31mTypeError\u001b[0m                                 Traceback (most recent call last)",
      "\u001b[0;32m<ipython-input-22-e7af28df1aeb>\u001b[0m in \u001b[0;36m<module>\u001b[0;34m()\u001b[0m\n\u001b[0;32m----> 1\u001b[0;31m \u001b[0mTrump\u001b[0m\u001b[0;34m(\u001b[0m\u001b[0;34m'Don'\u001b[0m\u001b[0;34m)\u001b[0m \u001b[0;34m>\u001b[0m \u001b[0mObama\u001b[0m\u001b[0;34m(\u001b[0m\u001b[0;34m'Barak'\u001b[0m\u001b[0;34m)\u001b[0m\u001b[0;34m\u001b[0m\u001b[0;34m\u001b[0m\u001b[0m\n\u001b[0m",
      "\u001b[0;31mTypeError\u001b[0m: '>' not supported between instances of 'Trump' and 'Obama'"
     ]
    }
   ],
   "source": [
    "Trump('Don') > Obama('Barak')  # We didn't define a __gt__ method..."
   ]
  },
  {
   "cell_type": "markdown",
   "metadata": {},
   "source": [
    "### add"
   ]
  },
  {
   "cell_type": "code",
   "execution_count": 25,
   "metadata": {},
   "outputs": [
    {
     "data": {
      "text/plain": [
       "'Blue Ivy'"
      ]
     },
     "execution_count": 25,
     "metadata": {},
     "output_type": "execute_result"
    }
   ],
   "source": [
    "class Person:\n",
    "    def __init__(self, name):\n",
    "        self.name = name\n",
    "\n",
    "    def __add__(self, other):\n",
    "        if all(map(lambda obj: obj.name.lower() in ('jay-z', 'beyoncé'), (self, other))):\n",
    "            return Person('Blue Ivy')\n",
    "        else:\n",
    "            return Person('Random Baby')\n",
    "        \n",
    "baby = Person('Jay-Z') + Person('Beyoncé')\n",
    "baby.name"
   ]
  },
  {
   "cell_type": "code",
   "execution_count": 26,
   "metadata": {},
   "outputs": [
    {
     "data": {
      "text/plain": [
       "'Random Baby'"
      ]
     },
     "execution_count": 26,
     "metadata": {},
     "output_type": "execute_result"
    }
   ],
   "source": [
    "baby = Person('Sam') + Person('Jamie')\n",
    "baby.name"
   ]
  },
  {
   "cell_type": "markdown",
   "metadata": {},
   "source": [
    "### __sub__"
   ]
  },
  {
   "cell_type": "code",
   "execution_count": 33,
   "metadata": {},
   "outputs": [
    {
     "data": {
      "text/plain": [
       "<Emotion (patience, 2)>"
      ]
     },
     "execution_count": 33,
     "metadata": {},
     "output_type": "execute_result"
    }
   ],
   "source": [
    "class Emotion:\n",
    "    def __init__(self, name, amplitude):\n",
    "        self.name = name\n",
    "        self.amplitude = amplitude\n",
    "        \n",
    "    def __repr__(self):\n",
    "        return f'<Emotion ({self.name}, {self.amplitude})>'\n",
    "\n",
    "    def __sub__(self, other):\n",
    "        if self.name != 'anger':\n",
    "            if other.name == 'anger':\n",
    "                return Emotion(self.name, self.amplitude + 1)\n",
    "            else:\n",
    "                return Emotion(self.name, self.amplitude - 1)\n",
    "        else:\n",
    "            if other.name == 'anger':\n",
    "                return Emotion(self.name, self.amplitude - 1)\n",
    "            else:\n",
    "                return Emotion(self.name, self.amplitude + 1)\n",
    "            \n",
    "Emotion('patience', 1) - Emotion('anger', 1)"
   ]
  },
  {
   "cell_type": "code",
   "execution_count": 35,
   "metadata": {},
   "outputs": [
    {
     "data": {
      "text/plain": [
       "<Emotion (anger, 0)>"
      ]
     },
     "execution_count": 35,
     "metadata": {},
     "output_type": "execute_result"
    }
   ],
   "source": [
    "Emotion('anger', 1) - Emotion('anger', 1)"
   ]
  },
  {
   "cell_type": "code",
   "execution_count": 37,
   "metadata": {},
   "outputs": [
    {
     "data": {
      "text/plain": [
       "<Emotion (anger, 2)>"
      ]
     },
     "execution_count": 37,
     "metadata": {},
     "output_type": "execute_result"
    }
   ],
   "source": [
    "Emotion('anger', 1) - Emotion('patience', 1)"
   ]
  },
  {
   "cell_type": "markdown",
   "metadata": {},
   "source": [
    "### __bool__"
   ]
  },
  {
   "cell_type": "code",
   "execution_count": 50,
   "metadata": {},
   "outputs": [
    {
     "data": {
      "text/plain": [
       "<GoofyBool True>"
      ]
     },
     "execution_count": 50,
     "metadata": {},
     "output_type": "execute_result"
    }
   ],
   "source": [
    "class GoofyBool:\n",
    "    def __init__(self, value):\n",
    "        self.value = value\n",
    "    \n",
    "    def __bool__(self):\n",
    "        return not self.value\n",
    "    \n",
    "    def __repr__(self):\n",
    "        return f'<GoofyBool {self.value}>'\n",
    "\n",
    "gb = GoofyBool(True)\n",
    "gb"
   ]
  },
  {
   "cell_type": "code",
   "execution_count": 51,
   "metadata": {},
   "outputs": [],
   "source": [
    "if gb:\n",
    "    print('Hi!')"
   ]
  },
  {
   "cell_type": "code",
   "execution_count": 52,
   "metadata": {},
   "outputs": [
    {
     "name": "stdout",
     "output_type": "stream",
     "text": [
      "Really?\n"
     ]
    }
   ],
   "source": [
    "if GoofyBool(False):\n",
    "    print('Really?')"
   ]
  },
  {
   "cell_type": "markdown",
   "metadata": {},
   "source": [
    "### __matmul__, ie \"@\""
   ]
  },
  {
   "cell_type": "code",
   "execution_count": 42,
   "metadata": {},
   "outputs": [
    {
     "data": {
      "text/plain": [
       "<EmailAddress \"paul.logston@columbia.edu\">"
      ]
     },
     "execution_count": 42,
     "metadata": {},
     "output_type": "execute_result"
    }
   ],
   "source": [
    "class EmailAddress:\n",
    "    def __init__(self, local, domain):\n",
    "        self.local = local\n",
    "        self.domain = domain\n",
    "    \n",
    "    def __repr__(self):\n",
    "        return f'<EmailAddress \"{self.local}@{self.domain}\">'\n",
    "\n",
    "class LocalAddress:\n",
    "    def __init__(self, value):\n",
    "        self.value = value\n",
    "        \n",
    "    def __matmul__(self, other):\n",
    "        return EmailAddress(self.value, other.value)\n",
    "\n",
    "class Domain:\n",
    "    def __init__(self, value):\n",
    "        self.value = value\n",
    "\n",
    "local = LocalAddress('paul.logston')\n",
    "domain = Domain('columbia.edu')\n",
    "\n",
    "local @ domain"
   ]
  },
  {
   "cell_type": "code",
   "execution_count": 45,
   "metadata": {},
   "outputs": [
    {
     "data": {
      "text/plain": [
       "<Point (15, 15)>"
      ]
     },
     "execution_count": 45,
     "metadata": {},
     "output_type": "execute_result"
    }
   ],
   "source": [
    "class Point:\n",
    "    __slots__ = ['x', 'y']\n",
    "    \n",
    "    def __init__(self, x, y):\n",
    "        self.x = x\n",
    "        self.y = y\n",
    "        \n",
    "    def __repr__(self):\n",
    "        return f'<Point ({self.x}, {self.y})>'\n",
    "    \n",
    "    def __add__(self, other):\n",
    "        x = self.x + other.x\n",
    "        y = self.y + other.y\n",
    "        return Point(x, y)\n",
    "    \n",
    "Point(5, 5) + Point(10, 10)"
   ]
  },
  {
   "cell_type": "code",
   "execution_count": 48,
   "metadata": {},
   "outputs": [
    {
     "ename": "AttributeError",
     "evalue": "'Point' object has no attribute 'z'",
     "output_type": "error",
     "traceback": [
      "\u001b[0;31m---------------------------------------------------------------------------\u001b[0m",
      "\u001b[0;31mAttributeError\u001b[0m                            Traceback (most recent call last)",
      "\u001b[0;32m<ipython-input-48-3fe6e3cd5ce2>\u001b[0m in \u001b[0;36m<module>\u001b[0;34m()\u001b[0m\n\u001b[1;32m      1\u001b[0m \u001b[0mp\u001b[0m \u001b[0;34m=\u001b[0m \u001b[0mPoint\u001b[0m\u001b[0;34m(\u001b[0m\u001b[0;36m5\u001b[0m\u001b[0;34m,\u001b[0m \u001b[0;36m5\u001b[0m\u001b[0;34m)\u001b[0m\u001b[0;34m\u001b[0m\u001b[0;34m\u001b[0m\u001b[0m\n\u001b[0;32m----> 2\u001b[0;31m \u001b[0mp\u001b[0m\u001b[0;34m.\u001b[0m\u001b[0mz\u001b[0m \u001b[0;34m=\u001b[0m \u001b[0;36m7\u001b[0m\u001b[0;34m\u001b[0m\u001b[0;34m\u001b[0m\u001b[0m\n\u001b[0m\u001b[1;32m      3\u001b[0m \u001b[0;31m# Provides us with restrictions on instance attributes.\u001b[0m\u001b[0;34m\u001b[0m\u001b[0;34m\u001b[0m\u001b[0;34m\u001b[0m\u001b[0m\n\u001b[1;32m      4\u001b[0m \u001b[0;31m# Also reduces amount of memory used since a full dict is not necessary for each instance.\u001b[0m\u001b[0;34m\u001b[0m\u001b[0;34m\u001b[0m\u001b[0;34m\u001b[0m\u001b[0m\n",
      "\u001b[0;31mAttributeError\u001b[0m: 'Point' object has no attribute 'z'"
     ]
    }
   ],
   "source": [
    "p = Point(5, 5)\n",
    "p.z = 7\n",
    "# Provides us with restrictions on instance attributes.\n",
    "# Also reduces amount of memory used since a full dict is not necessary for each instance."
   ]
  },
  {
   "cell_type": "markdown",
   "metadata": {},
   "source": [
    "### __contains__"
   ]
  },
  {
   "cell_type": "code",
   "execution_count": 57,
   "metadata": {},
   "outputs": [],
   "source": [
    "class Jar:\n",
    "    def __contains__(self, value):\n",
    "        return value.lower() == 'cookie'"
   ]
  },
  {
   "cell_type": "code",
   "execution_count": 58,
   "metadata": {},
   "outputs": [
    {
     "data": {
      "text/plain": [
       "True"
      ]
     },
     "execution_count": 58,
     "metadata": {},
     "output_type": "execute_result"
    }
   ],
   "source": [
    "'Cookie' in Jar()"
   ]
  },
  {
   "cell_type": "code",
   "execution_count": 59,
   "metadata": {},
   "outputs": [
    {
     "data": {
      "text/plain": [
       "False"
      ]
     },
     "execution_count": 59,
     "metadata": {},
     "output_type": "execute_result"
    }
   ],
   "source": [
    "'Porcupine' in Jar()"
   ]
  },
  {
   "cell_type": "markdown",
   "metadata": {},
   "source": [
    "### __call__"
   ]
  },
  {
   "cell_type": "code",
   "execution_count": 61,
   "metadata": {},
   "outputs": [
    {
     "data": {
      "text/plain": [
       "<__main__.CallableFactory at 0x10e2ea2b0>"
      ]
     },
     "execution_count": 61,
     "metadata": {},
     "output_type": "execute_result"
    }
   ],
   "source": [
    "class CallableFactory:\n",
    "    def __init__(self, name):\n",
    "        self.name = name\n",
    "        \n",
    "    def __call__(self, *args, **kwargs):\n",
    "        print(f'{self.name} was called')\n",
    "        \n",
    "a = CallableFactory('A')  # call the class\n",
    "a"
   ]
  },
  {
   "cell_type": "code",
   "execution_count": 62,
   "metadata": {},
   "outputs": [
    {
     "name": "stdout",
     "output_type": "stream",
     "text": [
      "A was called\n"
     ]
    }
   ],
   "source": [
    "a()  # call the object"
   ]
  },
  {
   "cell_type": "markdown",
   "metadata": {},
   "source": [
    "### __iter__"
   ]
  },
  {
   "cell_type": "code",
   "execution_count": 64,
   "metadata": {},
   "outputs": [],
   "source": [
    "class Slice:\n",
    "    def __init__(self, index):\n",
    "        self.index = index\n",
    "    \n",
    "    def __repr__(self):\n",
    "        return f'<Slice \"{self.index}\">'\n",
    "    \n",
    "class SlicesOfBread:\n",
    "    def __init__(self, count):\n",
    "        self.count = count\n",
    "        self.position = 0\n",
    "    \n",
    "    def __next__(self):\n",
    "        if self.position < self.count:\n",
    "            self.position += 1\n",
    "            return Slice(self.position)\n",
    "        raise StopIteration\n",
    "\n",
    "class BreadBag:\n",
    "    def __init__(self, slices):\n",
    "        self.slices = slices\n",
    "        \n",
    "    def __iter__(self):\n",
    "        return self.slices"
   ]
  },
  {
   "cell_type": "code",
   "execution_count": 67,
   "metadata": {},
   "outputs": [
    {
     "name": "stdout",
     "output_type": "stream",
     "text": [
      "<Slice \"1\">\n",
      "<Slice \"2\">\n",
      "<Slice \"3\">\n",
      "<Slice \"4\">\n",
      "<Slice \"5\">\n"
     ]
    }
   ],
   "source": [
    "bag = BreadBag(SlicesOfBread(5))\n",
    "\n",
    "for bread_slice in bag:  # Iterate over the SlicesOBread object\n",
    "    print(bread_slice)"
   ]
  },
  {
   "cell_type": "markdown",
   "metadata": {},
   "source": [
    "### __code__"
   ]
  },
  {
   "cell_type": "code",
   "execution_count": 72,
   "metadata": {},
   "outputs": [],
   "source": [
    "def my_sum(a, b):\n",
    "    return a + b"
   ]
  },
  {
   "cell_type": "code",
   "execution_count": 74,
   "metadata": {},
   "outputs": [
    {
     "data": {
      "text/plain": [
       "<code object my_sum at 0x10e2f31e0, file \"<ipython-input-72-049881bedff5>\", line 1>"
      ]
     },
     "execution_count": 74,
     "metadata": {},
     "output_type": "execute_result"
    }
   ],
   "source": [
    "my_sum.__code__"
   ]
  },
  {
   "cell_type": "code",
   "execution_count": 76,
   "metadata": {},
   "outputs": [
    {
     "name": "stdout",
     "output_type": "stream",
     "text": [
      "co_argcount\n",
      "co_cellvars\n",
      "co_code\n",
      "co_consts\n",
      "co_filename\n",
      "co_firstlineno\n",
      "co_flags\n",
      "co_freevars\n",
      "co_kwonlyargcount\n",
      "co_lnotab\n",
      "co_name\n",
      "co_names\n",
      "co_nlocals\n",
      "co_stacksize\n",
      "co_varnames\n"
     ]
    }
   ],
   "source": [
    "for attr in dir(my_sum.__code__):\n",
    "    if not attr.startswith('__'):\n",
    "        print(attr)"
   ]
  },
  {
   "cell_type": "code",
   "execution_count": 79,
   "metadata": {},
   "outputs": [
    {
     "name": "stdout",
     "output_type": "stream",
     "text": [
      "co_argcount ::: 2\n",
      "co_cellvars ::: ()\n",
      "co_code ::: b'|\\x00|\\x01\\x17\\x00S\\x00'\n",
      "co_consts ::: (None,)\n",
      "co_filename ::: <ipython-input-72-049881bedff5>\n",
      "co_firstlineno ::: 1\n",
      "co_flags ::: 67\n",
      "co_freevars ::: ()\n",
      "co_kwonlyargcount ::: 0\n",
      "co_lnotab ::: b'\\x00\\x01'\n",
      "co_name ::: my_sum\n",
      "co_names ::: ()\n",
      "co_nlocals ::: 2\n",
      "co_stacksize ::: 2\n",
      "co_varnames ::: ('a', 'b')\n"
     ]
    }
   ],
   "source": [
    "for attr in dir(my_sum.__code__):\n",
    "    if not attr.startswith('__'):\n",
    "        print(attr, ':::', getattr(my_sum.__code__, attr))"
   ]
  },
  {
   "cell_type": "markdown",
   "metadata": {},
   "source": [
    "### Memoization"
   ]
  },
  {
   "cell_type": "code",
   "execution_count": 85,
   "metadata": {},
   "outputs": [
    {
     "data": {
      "text/plain": [
       "42"
      ]
     },
     "execution_count": 85,
     "metadata": {},
     "output_type": "execute_result"
    }
   ],
   "source": [
    "import time\n",
    "\n",
    "class HeavyCalculation:\n",
    "    @property\n",
    "    def average(self):\n",
    "        time.sleep(4)  # simulate long running method\n",
    "        return 42\n",
    "    \n",
    "hc = HeavyCalculation()\n",
    "hc.average"
   ]
  },
  {
   "cell_type": "code",
   "execution_count": 86,
   "metadata": {},
   "outputs": [
    {
     "data": {
      "text/plain": [
       "42"
      ]
     },
     "execution_count": 86,
     "metadata": {},
     "output_type": "execute_result"
    }
   ],
   "source": [
    "hc.average  # Every time we ask for average we have to wait"
   ]
  },
  {
   "cell_type": "code",
   "execution_count": 87,
   "metadata": {},
   "outputs": [
    {
     "data": {
      "text/plain": [
       "42"
      ]
     },
     "execution_count": 87,
     "metadata": {},
     "output_type": "execute_result"
    }
   ],
   "source": [
    "class HeavyCalculation:\n",
    "    @property\n",
    "    def average(self):\n",
    "        if not hasattr(self, '_average'):\n",
    "            time.sleep(4)  # simulate long running method\n",
    "            self._average = 42\n",
    "        return self._average\n",
    "    \n",
    "hc = HeavyCalculation()\n",
    "hc.average"
   ]
  },
  {
   "cell_type": "code",
   "execution_count": 91,
   "metadata": {},
   "outputs": [
    {
     "data": {
      "text/plain": [
       "42"
      ]
     },
     "execution_count": 91,
     "metadata": {},
     "output_type": "execute_result"
    }
   ],
   "source": [
    "hc.average  # Instant results"
   ]
  },
  {
   "cell_type": "code",
   "execution_count": null,
   "metadata": {},
   "outputs": [],
   "source": []
  }
 ],
 "metadata": {
  "kernelspec": {
   "display_name": "Python 3",
   "language": "python",
   "name": "python3"
  },
  "language_info": {
   "codemirror_mode": {
    "name": "ipython",
    "version": 3
   },
   "file_extension": ".py",
   "mimetype": "text/x-python",
   "name": "python",
   "nbconvert_exporter": "python",
   "pygments_lexer": "ipython3",
   "version": "3.7.1"
  }
 },
 "nbformat": 4,
 "nbformat_minor": 2
}
